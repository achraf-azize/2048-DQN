{
  "nbformat": 4,
  "nbformat_minor": 0,
  "metadata": {
    "colab": {
      "name": "RL",
      "provenance": [],
      "collapsed_sections": [
        "jqoI-RDtxcTM",
        "VkxLL6YGvdh2"
      ]
    },
    "kernelspec": {
      "name": "python3",
      "display_name": "Python 3"
    },
    "accelerator": "GPU"
  },
  "cells": [
    {
      "cell_type": "markdown",
      "metadata": {
        "id": "jqoI-RDtxcTM",
        "colab_type": "text"
      },
      "source": [
        "# **Main functions and classes**"
      ]
    },
    {
      "cell_type": "code",
      "metadata": {
        "id": "Ky2-asSCOkii",
        "colab_type": "code",
        "outputId": "f0591651-f886-4b2d-aaa5-7ca887e167cd",
        "colab": {
          "base_uri": "https://localhost:8080/",
          "height": 0
        }
      },
      "source": [
        "!pip install gym_2048"
      ],
      "execution_count": 1,
      "outputs": [
        {
          "output_type": "stream",
          "text": [
            "Collecting gym_2048\n",
            "  Downloading https://files.pythonhosted.org/packages/47/47/a1f06f3a6a05b78ffee842a7cd6f6734f97b0c3600f69df7654c232f0adc/gym-2048-0.2.6.tar.gz\n",
            "Collecting gym~=0.10.0\n",
            "\u001b[?25l  Downloading https://files.pythonhosted.org/packages/87/04/70d4901b7105082c9742acd64728342f6da7cd471572fd0660a73f9cfe27/gym-0.10.11.tar.gz (1.5MB)\n",
            "\r\u001b[K     |▏                               | 10kB 18.4MB/s eta 0:00:01\r\u001b[K     |▍                               | 20kB 26.2MB/s eta 0:00:01\r\u001b[K     |▋                               | 30kB 30.5MB/s eta 0:00:01\r\u001b[K     |▉                               | 40kB 33.3MB/s eta 0:00:01\r\u001b[K     |█                               | 51kB 36.0MB/s eta 0:00:01\r\u001b[K     |█▎                              | 61kB 38.8MB/s eta 0:00:01\r\u001b[K     |█▌                              | 71kB 39.3MB/s eta 0:00:01\r\u001b[K     |█▊                              | 81kB 38.7MB/s eta 0:00:01\r\u001b[K     |██                              | 92kB 40.1MB/s eta 0:00:01\r\u001b[K     |██▏                             | 102kB 39.7MB/s eta 0:00:01\r\u001b[K     |██▍                             | 112kB 39.7MB/s eta 0:00:01\r\u001b[K     |██▋                             | 122kB 39.7MB/s eta 0:00:01\r\u001b[K     |██▊                             | 133kB 39.7MB/s eta 0:00:01\r\u001b[K     |███                             | 143kB 39.7MB/s eta 0:00:01\r\u001b[K     |███▏                            | 153kB 39.7MB/s eta 0:00:01\r\u001b[K     |███▍                            | 163kB 39.7MB/s eta 0:00:01\r\u001b[K     |███▋                            | 174kB 39.7MB/s eta 0:00:01\r\u001b[K     |███▉                            | 184kB 39.7MB/s eta 0:00:01\r\u001b[K     |████                            | 194kB 39.7MB/s eta 0:00:01\r\u001b[K     |████▎                           | 204kB 39.7MB/s eta 0:00:01\r\u001b[K     |████▌                           | 215kB 39.7MB/s eta 0:00:01\r\u001b[K     |████▊                           | 225kB 39.7MB/s eta 0:00:01\r\u001b[K     |█████                           | 235kB 39.7MB/s eta 0:00:01\r\u001b[K     |█████▏                          | 245kB 39.7MB/s eta 0:00:01\r\u001b[K     |█████▎                          | 256kB 39.7MB/s eta 0:00:01\r\u001b[K     |█████▌                          | 266kB 39.7MB/s eta 0:00:01\r\u001b[K     |█████▊                          | 276kB 39.7MB/s eta 0:00:01\r\u001b[K     |██████                          | 286kB 39.7MB/s eta 0:00:01\r\u001b[K     |██████▏                         | 296kB 39.7MB/s eta 0:00:01\r\u001b[K     |██████▍                         | 307kB 39.7MB/s eta 0:00:01\r\u001b[K     |██████▋                         | 317kB 39.7MB/s eta 0:00:01\r\u001b[K     |██████▉                         | 327kB 39.7MB/s eta 0:00:01\r\u001b[K     |███████                         | 337kB 39.7MB/s eta 0:00:01\r\u001b[K     |███████▎                        | 348kB 39.7MB/s eta 0:00:01\r\u001b[K     |███████▌                        | 358kB 39.7MB/s eta 0:00:01\r\u001b[K     |███████▊                        | 368kB 39.7MB/s eta 0:00:01\r\u001b[K     |███████▉                        | 378kB 39.7MB/s eta 0:00:01\r\u001b[K     |████████                        | 389kB 39.7MB/s eta 0:00:01\r\u001b[K     |████████▎                       | 399kB 39.7MB/s eta 0:00:01\r\u001b[K     |████████▌                       | 409kB 39.7MB/s eta 0:00:01\r\u001b[K     |████████▊                       | 419kB 39.7MB/s eta 0:00:01\r\u001b[K     |█████████                       | 430kB 39.7MB/s eta 0:00:01\r\u001b[K     |█████████▏                      | 440kB 39.7MB/s eta 0:00:01\r\u001b[K     |█████████▍                      | 450kB 39.7MB/s eta 0:00:01\r\u001b[K     |█████████▋                      | 460kB 39.7MB/s eta 0:00:01\r\u001b[K     |█████████▉                      | 471kB 39.7MB/s eta 0:00:01\r\u001b[K     |██████████                      | 481kB 39.7MB/s eta 0:00:01\r\u001b[K     |██████████▎                     | 491kB 39.7MB/s eta 0:00:01\r\u001b[K     |██████████▌                     | 501kB 39.7MB/s eta 0:00:01\r\u001b[K     |██████████▋                     | 512kB 39.7MB/s eta 0:00:01\r\u001b[K     |██████████▉                     | 522kB 39.7MB/s eta 0:00:01\r\u001b[K     |███████████                     | 532kB 39.7MB/s eta 0:00:01\r\u001b[K     |███████████▎                    | 542kB 39.7MB/s eta 0:00:01\r\u001b[K     |███████████▌                    | 552kB 39.7MB/s eta 0:00:01\r\u001b[K     |███████████▊                    | 563kB 39.7MB/s eta 0:00:01\r\u001b[K     |████████████                    | 573kB 39.7MB/s eta 0:00:01\r\u001b[K     |████████████▏                   | 583kB 39.7MB/s eta 0:00:01\r\u001b[K     |████████████▍                   | 593kB 39.7MB/s eta 0:00:01\r\u001b[K     |████████████▋                   | 604kB 39.7MB/s eta 0:00:01\r\u001b[K     |████████████▉                   | 614kB 39.7MB/s eta 0:00:01\r\u001b[K     |█████████████                   | 624kB 39.7MB/s eta 0:00:01\r\u001b[K     |█████████████▏                  | 634kB 39.7MB/s eta 0:00:01\r\u001b[K     |█████████████▍                  | 645kB 39.7MB/s eta 0:00:01\r\u001b[K     |█████████████▋                  | 655kB 39.7MB/s eta 0:00:01\r\u001b[K     |█████████████▉                  | 665kB 39.7MB/s eta 0:00:01\r\u001b[K     |██████████████                  | 675kB 39.7MB/s eta 0:00:01\r\u001b[K     |██████████████▎                 | 686kB 39.7MB/s eta 0:00:01\r\u001b[K     |██████████████▌                 | 696kB 39.7MB/s eta 0:00:01\r\u001b[K     |██████████████▊                 | 706kB 39.7MB/s eta 0:00:01\r\u001b[K     |███████████████                 | 716kB 39.7MB/s eta 0:00:01\r\u001b[K     |███████████████▏                | 727kB 39.7MB/s eta 0:00:01\r\u001b[K     |███████████████▍                | 737kB 39.7MB/s eta 0:00:01\r\u001b[K     |███████████████▋                | 747kB 39.7MB/s eta 0:00:01\r\u001b[K     |███████████████▊                | 757kB 39.7MB/s eta 0:00:01\r\u001b[K     |████████████████                | 768kB 39.7MB/s eta 0:00:01\r\u001b[K     |████████████████▏               | 778kB 39.7MB/s eta 0:00:01\r\u001b[K     |████████████████▍               | 788kB 39.7MB/s eta 0:00:01\r\u001b[K     |████████████████▋               | 798kB 39.7MB/s eta 0:00:01\r\u001b[K     |████████████████▉               | 808kB 39.7MB/s eta 0:00:01\r\u001b[K     |█████████████████               | 819kB 39.7MB/s eta 0:00:01\r\u001b[K     |█████████████████▎              | 829kB 39.7MB/s eta 0:00:01\r\u001b[K     |█████████████████▌              | 839kB 39.7MB/s eta 0:00:01\r\u001b[K     |█████████████████▊              | 849kB 39.7MB/s eta 0:00:01\r\u001b[K     |██████████████████              | 860kB 39.7MB/s eta 0:00:01\r\u001b[K     |██████████████████▏             | 870kB 39.7MB/s eta 0:00:01\r\u001b[K     |██████████████████▎             | 880kB 39.7MB/s eta 0:00:01\r\u001b[K     |██████████████████▌             | 890kB 39.7MB/s eta 0:00:01\r\u001b[K     |██████████████████▊             | 901kB 39.7MB/s eta 0:00:01\r\u001b[K     |███████████████████             | 911kB 39.7MB/s eta 0:00:01\r\u001b[K     |███████████████████▏            | 921kB 39.7MB/s eta 0:00:01\r\u001b[K     |███████████████████▍            | 931kB 39.7MB/s eta 0:00:01\r\u001b[K     |███████████████████▋            | 942kB 39.7MB/s eta 0:00:01\r\u001b[K     |███████████████████▉            | 952kB 39.7MB/s eta 0:00:01\r\u001b[K     |████████████████████            | 962kB 39.7MB/s eta 0:00:01\r\u001b[K     |████████████████████▎           | 972kB 39.7MB/s eta 0:00:01\r\u001b[K     |████████████████████▌           | 983kB 39.7MB/s eta 0:00:01\r\u001b[K     |████████████████████▊           | 993kB 39.7MB/s eta 0:00:01\r\u001b[K     |█████████████████████           | 1.0MB 39.7MB/s eta 0:00:01\r\u001b[K     |█████████████████████           | 1.0MB 39.7MB/s eta 0:00:01\r\u001b[K     |█████████████████████▎          | 1.0MB 39.7MB/s eta 0:00:01\r\u001b[K     |█████████████████████▌          | 1.0MB 39.7MB/s eta 0:00:01\r\u001b[K     |█████████████████████▊          | 1.0MB 39.7MB/s eta 0:00:01\r\u001b[K     |██████████████████████          | 1.1MB 39.7MB/s eta 0:00:01\r\u001b[K     |██████████████████████▏         | 1.1MB 39.7MB/s eta 0:00:01\r\u001b[K     |██████████████████████▍         | 1.1MB 39.7MB/s eta 0:00:01\r\u001b[K     |██████████████████████▋         | 1.1MB 39.7MB/s eta 0:00:01\r\u001b[K     |██████████████████████▉         | 1.1MB 39.7MB/s eta 0:00:01\r\u001b[K     |███████████████████████         | 1.1MB 39.7MB/s eta 0:00:01\r\u001b[K     |███████████████████████▎        | 1.1MB 39.7MB/s eta 0:00:01\r\u001b[K     |███████████████████████▌        | 1.1MB 39.7MB/s eta 0:00:01\r\u001b[K     |███████████████████████▋        | 1.1MB 39.7MB/s eta 0:00:01\r\u001b[K     |███████████████████████▉        | 1.1MB 39.7MB/s eta 0:00:01\r\u001b[K     |████████████████████████        | 1.2MB 39.7MB/s eta 0:00:01\r\u001b[K     |████████████████████████▎       | 1.2MB 39.7MB/s eta 0:00:01\r\u001b[K     |████████████████████████▌       | 1.2MB 39.7MB/s eta 0:00:01\r\u001b[K     |████████████████████████▊       | 1.2MB 39.7MB/s eta 0:00:01\r\u001b[K     |█████████████████████████       | 1.2MB 39.7MB/s eta 0:00:01\r\u001b[K     |█████████████████████████▏      | 1.2MB 39.7MB/s eta 0:00:01\r\u001b[K     |█████████████████████████▍      | 1.2MB 39.7MB/s eta 0:00:01\r\u001b[K     |█████████████████████████▋      | 1.2MB 39.7MB/s eta 0:00:01\r\u001b[K     |█████████████████████████▉      | 1.2MB 39.7MB/s eta 0:00:01\r\u001b[K     |██████████████████████████      | 1.2MB 39.7MB/s eta 0:00:01\r\u001b[K     |██████████████████████████▏     | 1.3MB 39.7MB/s eta 0:00:01\r\u001b[K     |██████████████████████████▍     | 1.3MB 39.7MB/s eta 0:00:01\r\u001b[K     |██████████████████████████▋     | 1.3MB 39.7MB/s eta 0:00:01\r\u001b[K     |██████████████████████████▉     | 1.3MB 39.7MB/s eta 0:00:01\r\u001b[K     |███████████████████████████     | 1.3MB 39.7MB/s eta 0:00:01\r\u001b[K     |███████████████████████████▎    | 1.3MB 39.7MB/s eta 0:00:01\r\u001b[K     |███████████████████████████▌    | 1.3MB 39.7MB/s eta 0:00:01\r\u001b[K     |███████████████████████████▊    | 1.3MB 39.7MB/s eta 0:00:01\r\u001b[K     |████████████████████████████    | 1.3MB 39.7MB/s eta 0:00:01\r\u001b[K     |████████████████████████████▏   | 1.4MB 39.7MB/s eta 0:00:01\r\u001b[K     |████████████████████████████▍   | 1.4MB 39.7MB/s eta 0:00:01\r\u001b[K     |████████████████████████████▋   | 1.4MB 39.7MB/s eta 0:00:01\r\u001b[K     |████████████████████████████▉   | 1.4MB 39.7MB/s eta 0:00:01\r\u001b[K     |█████████████████████████████   | 1.4MB 39.7MB/s eta 0:00:01\r\u001b[K     |█████████████████████████████▏  | 1.4MB 39.7MB/s eta 0:00:01\r\u001b[K     |█████████████████████████████▍  | 1.4MB 39.7MB/s eta 0:00:01\r\u001b[K     |█████████████████████████████▋  | 1.4MB 39.7MB/s eta 0:00:01\r\u001b[K     |█████████████████████████████▉  | 1.4MB 39.7MB/s eta 0:00:01\r\u001b[K     |██████████████████████████████  | 1.4MB 39.7MB/s eta 0:00:01\r\u001b[K     |██████████████████████████████▎ | 1.5MB 39.7MB/s eta 0:00:01\r\u001b[K     |██████████████████████████████▌ | 1.5MB 39.7MB/s eta 0:00:01\r\u001b[K     |██████████████████████████████▊ | 1.5MB 39.7MB/s eta 0:00:01\r\u001b[K     |███████████████████████████████ | 1.5MB 39.7MB/s eta 0:00:01\r\u001b[K     |███████████████████████████████▏| 1.5MB 39.7MB/s eta 0:00:01\r\u001b[K     |███████████████████████████████▍| 1.5MB 39.7MB/s eta 0:00:01\r\u001b[K     |███████████████████████████████▌| 1.5MB 39.7MB/s eta 0:00:01\r\u001b[K     |███████████████████████████████▊| 1.5MB 39.7MB/s eta 0:00:01\r\u001b[K     |████████████████████████████████| 1.5MB 39.7MB/s eta 0:00:01\r\u001b[K     |████████████████████████████████| 1.5MB 39.7MB/s \n",
            "\u001b[?25hCollecting numpy~=1.14.0\n",
            "\u001b[?25l  Downloading https://files.pythonhosted.org/packages/e5/c4/395ebb218053ba44d64935b3729bc88241ec279915e72100c5979db10945/numpy-1.14.6-cp36-cp36m-manylinux1_x86_64.whl (13.8MB)\n",
            "\u001b[K     |████████████████████████████████| 13.8MB 231kB/s \n",
            "\u001b[?25hRequirement already satisfied: scipy in /usr/local/lib/python3.6/dist-packages (from gym~=0.10.0->gym_2048) (1.4.1)\n",
            "Requirement already satisfied: requests>=2.0 in /usr/local/lib/python3.6/dist-packages (from gym~=0.10.0->gym_2048) (2.21.0)\n",
            "Requirement already satisfied: six in /usr/local/lib/python3.6/dist-packages (from gym~=0.10.0->gym_2048) (1.12.0)\n",
            "Requirement already satisfied: pyglet>=1.2.0 in /usr/local/lib/python3.6/dist-packages (from gym~=0.10.0->gym_2048) (1.4.10)\n",
            "Requirement already satisfied: idna<2.9,>=2.5 in /usr/local/lib/python3.6/dist-packages (from requests>=2.0->gym~=0.10.0->gym_2048) (2.8)\n",
            "Requirement already satisfied: urllib3<1.25,>=1.21.1 in /usr/local/lib/python3.6/dist-packages (from requests>=2.0->gym~=0.10.0->gym_2048) (1.24.3)\n",
            "Requirement already satisfied: certifi>=2017.4.17 in /usr/local/lib/python3.6/dist-packages (from requests>=2.0->gym~=0.10.0->gym_2048) (2019.11.28)\n",
            "Requirement already satisfied: chardet<3.1.0,>=3.0.2 in /usr/local/lib/python3.6/dist-packages (from requests>=2.0->gym~=0.10.0->gym_2048) (3.0.4)\n",
            "Requirement already satisfied: future in /usr/local/lib/python3.6/dist-packages (from pyglet>=1.2.0->gym~=0.10.0->gym_2048) (0.16.0)\n",
            "Building wheels for collected packages: gym-2048, gym\n",
            "  Building wheel for gym-2048 (setup.py) ... \u001b[?25l\u001b[?25hdone\n",
            "  Created wheel for gym-2048: filename=gym_2048-0.2.6-cp36-none-any.whl size=4682 sha256=bac061916e24fa503319961c2b5f3628e08a28408bdaf098517693ebff784ac6\n",
            "  Stored in directory: /root/.cache/pip/wheels/ab/11/22/a6c0fb3622f6fad7e8b7f4342a3c64e115bee08a4189bbae18\n",
            "  Building wheel for gym (setup.py) ... \u001b[?25l\u001b[?25hdone\n",
            "  Created wheel for gym: filename=gym-0.10.11-cp36-none-any.whl size=1588313 sha256=e20c9f7845cb59f492b539ff7f4f9e956b10a32aea7813d4269e5158535b4f36\n",
            "  Stored in directory: /root/.cache/pip/wheels/7b/eb/1f/22c4124f3c64943aa0646daf4612b1c1f00f27d89b81304ebd\n",
            "Successfully built gym-2048 gym\n",
            "\u001b[31mERROR: tensorflow 1.15.0 has requirement numpy<2.0,>=1.16.0, but you'll have numpy 1.14.6 which is incompatible.\u001b[0m\n",
            "\u001b[31mERROR: spacy 2.1.9 has requirement numpy>=1.15.0, but you'll have numpy 1.14.6 which is incompatible.\u001b[0m\n",
            "\u001b[31mERROR: plotnine 0.6.0 has requirement numpy>=1.16.0, but you'll have numpy 1.14.6 which is incompatible.\u001b[0m\n",
            "\u001b[31mERROR: imgaug 0.2.9 has requirement numpy>=1.15.0, but you'll have numpy 1.14.6 which is incompatible.\u001b[0m\n",
            "\u001b[31mERROR: fastai 1.0.60 has requirement numpy>=1.15, but you'll have numpy 1.14.6 which is incompatible.\u001b[0m\n",
            "\u001b[31mERROR: datascience 0.10.6 has requirement folium==0.2.1, but you'll have folium 0.8.3 which is incompatible.\u001b[0m\n",
            "\u001b[31mERROR: cvxpy 1.0.25 has requirement numpy>=1.15, but you'll have numpy 1.14.6 which is incompatible.\u001b[0m\n",
            "\u001b[31mERROR: blis 0.2.4 has requirement numpy>=1.15.0, but you'll have numpy 1.14.6 which is incompatible.\u001b[0m\n",
            "\u001b[31mERROR: astropy 4.0 has requirement numpy>=1.16, but you'll have numpy 1.14.6 which is incompatible.\u001b[0m\n",
            "\u001b[31mERROR: albumentations 0.1.12 has requirement imgaug<0.2.7,>=0.2.5, but you'll have imgaug 0.2.9 which is incompatible.\u001b[0m\n",
            "Installing collected packages: numpy, gym, gym-2048\n",
            "  Found existing installation: numpy 1.17.5\n",
            "    Uninstalling numpy-1.17.5:\n",
            "      Successfully uninstalled numpy-1.17.5\n",
            "  Found existing installation: gym 0.15.6\n",
            "    Uninstalling gym-0.15.6:\n",
            "      Successfully uninstalled gym-0.15.6\n",
            "Successfully installed gym-0.10.11 gym-2048-0.2.6 numpy-1.14.6\n"
          ],
          "name": "stdout"
        },
        {
          "output_type": "display_data",
          "data": {
            "application/vnd.colab-display-data+json": {
              "pip_warning": {
                "packages": [
                  "numpy"
                ]
              }
            }
          },
          "metadata": {
            "tags": []
          }
        }
      ]
    },
    {
      "cell_type": "code",
      "metadata": {
        "id": "Tclz-vcI-Bm5",
        "colab_type": "code",
        "colab": {}
      },
      "source": [
        "import torch\n",
        "import torch.nn as nn\n",
        "import torch.optim as optim\n",
        "import torch.nn.functional as F\n",
        "import torchvision.transforms as T\n",
        "import gym\n",
        "import gym_2048\n",
        "import math\n",
        "import random\n",
        "import numpy as np\n",
        "import matplotlib\n",
        "import matplotlib.pyplot as plt\n",
        "import collections"
      ],
      "execution_count": 0,
      "outputs": []
    },
    {
      "cell_type": "code",
      "metadata": {
        "id": "Jkmw_5Pp-1pm",
        "colab_type": "code",
        "colab": {}
      },
      "source": [
        "device = torch.device(\"cuda:0\" if torch.cuda.is_available() else \"cpu\")  # Using cuda to accelerate training"
      ],
      "execution_count": 0,
      "outputs": []
    },
    {
      "cell_type": "code",
      "metadata": {
        "id": "wIPTNh4N-DY4",
        "colab_type": "code",
        "colab": {}
      },
      "source": [
        "class DQN(nn.Module):\n",
        "    ### Deep Q-Learning Network\n",
        "    def __init__(self):\n",
        "        super(DQN, self).__init__()\n",
        "        \n",
        "        self.conv_a = nn.Conv2d(16, 128, kernel_size=(1,2))        # Convolutional layers\n",
        "        self.conv_b = nn.Conv2d(16, 128, kernel_size=(2,1))\n",
        "\n",
        "        self.conv_aa = nn.Conv2d(128, 128, kernel_size=(1,2))\n",
        "        self.conv_ab = nn.Conv2d(128, 128, kernel_size=(2,1))\n",
        "\n",
        "        self.conv_ba = nn.Conv2d(128, 128, kernel_size=(1,2))\n",
        "        self.conv_bb = nn.Conv2d(128, 128, kernel_size=(2,1))\n",
        "        \n",
        "        self.fc = nn.Sequential(         # Linear and Relu\n",
        "            nn.Linear(7424, 256),\n",
        "            nn.ReLU(),\n",
        "            nn.Linear(256, 4)\n",
        "        )\n",
        "        \n",
        "    def forward(self, x):\n",
        "      # Forward function of the layer\n",
        "        x_a = F.relu(self.conv_a(x))\n",
        "        x_b = F.relu(self.conv_b(x))\n",
        "        \n",
        "        x_aa = F.relu(self.conv_aa(x_a))\n",
        "        x_ab = F.relu(self.conv_ab(x_a))\n",
        "        \n",
        "        x_ba = F.relu(self.conv_ba(x_b))\n",
        "        x_bb = F.relu(self.conv_bb(x_b))\n",
        "        \n",
        "        sh_a = x_a.shape\n",
        "        sh_aa = x_aa.shape\n",
        "        sh_ab = x_ab.shape\n",
        "        sh_b = x_b.shape\n",
        "        sh_ba = x_ba.shape\n",
        "        sh_bb = x_bb.shape\n",
        "        \n",
        "        x_a = x_a.view(sh_a[0],sh_a[1]*sh_a[2]*sh_a[3])\n",
        "        x_aa = x_aa.view(sh_aa[0],sh_aa[1]*sh_aa[2]*sh_aa[3])\n",
        "        x_ab = x_ab.view(sh_ab[0],sh_ab[1]*sh_ab[2]*sh_ab[3])\n",
        "        x_b = x_b.view(sh_b[0],sh_b[1]*sh_b[2]*sh_b[3])\n",
        "        x_ba = x_ba.view(sh_ba[0],sh_ba[1]*sh_ba[2]*sh_ba[3])\n",
        "        x_bb = x_bb.view(sh_bb[0],sh_bb[1]*sh_bb[2]*sh_bb[3])\n",
        "        \n",
        "        concat = torch.cat((x_a,x_b,x_aa,x_ab,x_ba,x_bb),dim=1)\n",
        "        \n",
        "        output = self.fc(concat)\n",
        "        \n",
        "        return output"
      ],
      "execution_count": 0,
      "outputs": []
    },
    {
      "cell_type": "code",
      "metadata": {
        "id": "XUI4JNvy-YI0",
        "colab_type": "code",
        "colab": {}
      },
      "source": [
        "class Memory(object):\n",
        "  ## Class for replay buffer\n",
        "    def __init__(self, memory_size, array):\n",
        "        self.memory_size = memory_size\n",
        "        self.buffer = collections.deque(array, maxlen=self.memory_size)\n",
        "\n",
        "    def add(self, experience):\n",
        "      # Add to buffer\n",
        "        self.buffer.append(experience)\n",
        "\n",
        "    def size(self):\n",
        "        return len(self.buffer)\n",
        "\n",
        "    def sample(self, batch_size):\n",
        "      ## Sample min(batch_size, len(buffer)) elements for buffer\n",
        "        if batch_size > len(self.buffer):\n",
        "            batch_size = len(self.buffer)\n",
        "        indexes = np.random.choice(np.arange(len(self.buffer)), size=batch_size, replace=False)\n",
        "        return [self.buffer[i] for i in indexes]\n",
        "\n",
        "    def clear(self):\n",
        "        self.buffer.clear()"
      ],
      "execution_count": 0,
      "outputs": []
    },
    {
      "cell_type": "code",
      "metadata": {
        "id": "9WSIVbsBBPbB",
        "colab_type": "code",
        "colab": {}
      },
      "source": [
        "class Env(gym_2048.Base2048Env):\n",
        "  ## Class inherits from base 2048 environment\n",
        "\n",
        "    metadata = {\n",
        "      'render.modes': ['human'], 'rewards':['score','nb_merge', 'nb_merge_max_tile', 'nb_empty_tiles']\n",
        "  }\n",
        "\n",
        "    def __init__(self, reward_mode = 'score'):\n",
        "      super().__init__()\n",
        "      self.reward_mode = reward_mode  # Several reward modes\n",
        "    \n",
        "    def step(self, action: int): \n",
        "\n",
        "        # Align board action with left action\n",
        "        rotated_obs = np.rot90(self.board, k=action)\n",
        "        reward, updated_obs = self._slide_left_and_merge(rotated_obs)\n",
        "        self.board = np.rot90(updated_obs, k=4 - action)\n",
        "\n",
        "        # Place one random tile on empty location\n",
        "        self._place_random_tiles(self.board, count=1)\n",
        "\n",
        "        done = self.is_done()\n",
        "\n",
        "        return self.board, reward, done, {}\n",
        "\n",
        "    def _slide_left_and_merge(self, board):\n",
        "        ## Slides the board to the left\n",
        "        result = []\n",
        "\n",
        "        score = 0\n",
        "        max_tile = 0 # Maximum value in the board\n",
        "        for row in board:\n",
        "          row = np.extract(row > 0, row)\n",
        "          score_, max_row, result_row = self._try_merge(row)\n",
        "          max_tile = max(max_tile, max_row)  \n",
        "          score += score_\n",
        "          row = np.pad(np.array(result_row), (0, 4 - len(result_row)),\n",
        "                      'constant', constant_values=(0,))\n",
        "          result.append(row)\n",
        "        \n",
        "        \n",
        "        score = score + int(self.reward_mode == 'nb_merge_max_tile')*np.log2(max_tile)  # Different cases of rewards\n",
        "        return score, np.array(result, dtype=np.int64)\n",
        "\n",
        "    \n",
        "    def _try_merge(self,row):\n",
        "        # Merging tiles\n",
        "        score = 0\n",
        "        result_row = []\n",
        "\n",
        "        i = 1\n",
        "        max_row = 0\n",
        "        while i < len(row):\n",
        "          if row[i] == row[i - 1]:\n",
        "            # If equal tiles, merge\n",
        "            score += (row[i] + row[i - 1])*int(self.reward_mode == 'score') + int(self.reward_mode != 'score')\n",
        "            max_row = max(max_row, row[i] + row[i - 1]) \n",
        "            result_row.append(row[i] + row[i - 1])\n",
        "            i += 2\n",
        "          else:\n",
        "            max_row = max(max_row, row[i - 1])\n",
        "            result_row.append(row[i - 1])\n",
        "            i += 1\n",
        "          \n",
        "\n",
        "        if i == len(row):\n",
        "          max_row = max(max_row, row[i - 1])\n",
        "          result_row.append(row[i - 1])\n",
        "\n",
        "        score = score*int(self.reward_mode != 'nb_empty_tiles') + (4-len(row))*int(self.reward_mode == 'nb_empty_tiles')  # (4 - len(row)) empty tiles in the row\n",
        "      \n",
        "        return score, max_row, result_row\n"
      ],
      "execution_count": 0,
      "outputs": []
    },
    {
      "cell_type": "code",
      "metadata": {
        "id": "xIcGbqZ7-aud",
        "colab_type": "code",
        "colab": {}
      },
      "source": [
        "def change_values(X):\n",
        "    # Transform input of the DQN (normalization)\n",
        "    power_mat = np.zeros(shape=(1,16,4,4),dtype=np.float32)\n",
        "    for i in range(4):\n",
        "        for j in range(4):\n",
        "            if(X[i][j]==0):\n",
        "                power_mat[0][0][i][j] = 1.0\n",
        "            else:\n",
        "                power = int(math.log(X[i][j],2))\n",
        "                power_mat[0][power][i][j] = 1.0\n",
        "    return power_mat "
      ],
      "execution_count": 0,
      "outputs": []
    },
    {
      "cell_type": "code",
      "metadata": {
        "id": "CHOBKzQx-biw",
        "colab_type": "code",
        "colab": {}
      },
      "source": [
        "import time \n",
        "\n",
        "\n",
        "\n",
        "def training(n_epochs, reward_mode, online_dic, target_dic, epsilon, memory_buffer, opti, path = \"/content/gdrive/My Drive/2048/\", cont = True, print_rate = 100):             \n",
        "    # Training the agent (we input parameters coming from previous training)\n",
        "    \n",
        "    GAMMA = 0.99 \n",
        "    EXPLORE = 10000\n",
        "    INITIAL_EPSILON = 0.1\n",
        "    FINAL_EPSILON = 0.0001\n",
        "    REPLAY_MEMORY = 50000   # Size of replay buffer\n",
        "    BATCH = 16  # Length of batch extracted from buffer\n",
        "\n",
        "\n",
        "    UPDATE_STEPS = 4\n",
        "    \n",
        "    begin_learn = False\n",
        "    learn_steps = 0\n",
        "    episode_reward = 0\n",
        "    scores = []\n",
        "    max_tiles = []\n",
        "      \n",
        "    env = Env(reward_mode = reward_mode)\n",
        "    n_state = env.observation_space.shape[0]\n",
        "    n_action = env.action_space.n\n",
        "\n",
        "    if cont:\n",
        "      ## In this case, we load previous training parameters to continue the training\n",
        "        epsilon = np.float(np.load(path+epsilon))\n",
        "        memory_replay = Memory(REPLAY_MEMORY, collections.deque(np.load(path+memory_buffer, allow_pickle = True)))\n",
        "\n",
        "        onlineQNetwork = DQN().to(device)\n",
        "        targetQNetwork = DQN().to(device)\n",
        "        onlineQNetwork.load_state_dict(torch.load(path+online_dic))\n",
        "        targetQNetwork.load_state_dict(torch.load(path+target_dic))\n",
        "        \n",
        "        optimizer = torch.load(path + opti)\n",
        "        \n",
        "    else:\n",
        "      ## Start of the training\n",
        "\n",
        "        epsilon = INITIAL_EPSILON\n",
        "        memory_replay = Memory(REPLAY_MEMORY, np.array([]))\n",
        "        onlineQNetwork = DQN().to(device)\n",
        "        targetQNetwork = DQN().to(device)\n",
        "        targetQNetwork.load_state_dict(onlineQNetwork.state_dict())\n",
        "\n",
        "        optimizer = torch.optim.Adam(onlineQNetwork.parameters(), lr=1e-4)\n",
        "      \n",
        "      \n",
        "    \n",
        "    for epoch in range(n_epochs):\n",
        "          \n",
        "        state = env.reset()\n",
        "        episode_reward = 0\n",
        "        done = False\n",
        "          \n",
        "        while not done:\n",
        "              \n",
        "            x = change_values(state)\n",
        "            x = torch.from_numpy(np.flip(x,axis=0).copy()).to(device)\n",
        "              \n",
        "            \n",
        "            # Epsilon-greedy approach for the policy\n",
        "            if random.random() < epsilon:\n",
        "                action = random.randint(0,3)\n",
        "                next_state, reward, done, _ = env.step(action)\n",
        "                while (state == next_state).all():\n",
        "                    action = random.randint(0,3)\n",
        "                    next_state, reward, done, _ = env.step(action)             \n",
        "            else:\n",
        "                output = onlineQNetwork.forward(x) \n",
        "                for action in output.argsort()[0].cpu().numpy()[::-1]:\n",
        "                    next_state, reward, done, _ = env.step(action)\n",
        "                    if (state == next_state).all() == False:\n",
        "                        break\n",
        "\n",
        "              \n",
        "            episode_reward += reward\n",
        "            memory_replay.add((change_values(state), change_values(next_state), action, reward, done))  ## Adding data to the replay buffer\n",
        "              \n",
        "            if memory_replay.size() > 128:\n",
        "                if begin_learn is False:\n",
        "                    print('learn begin!')\n",
        "                    begin_learn = True\n",
        "                learn_steps += 1\n",
        "                if learn_steps % UPDATE_STEPS == 0:\n",
        "                    targetQNetwork.load_state_dict(onlineQNetwork.state_dict())\n",
        "                batch = memory_replay.sample(BATCH)\n",
        "                batch_state, batch_next_state, batch_action, batch_reward, batch_done = zip(*batch)\n",
        "\n",
        "                batch_state = torch.FloatTensor(batch_state).squeeze(1).to(device)\n",
        "                batch_next_state = torch.FloatTensor(batch_next_state).squeeze(1).to(device)\n",
        "                batch_action = torch.Tensor(batch_action).unsqueeze(1).to(device)\n",
        "                batch_reward = torch.Tensor(batch_reward).unsqueeze(1).to(device)\n",
        "                batch_done = torch.FloatTensor(batch_done).unsqueeze(1).to(device)\n",
        "\n",
        "                with torch.no_grad():\n",
        "                    targetQ_next = targetQNetwork(batch_next_state)\n",
        "                    y = batch_reward + (1 - batch_done) * GAMMA * torch.max(targetQ_next, dim=1, keepdim=True)[0]      # Q-learning update\n",
        "\n",
        "                loss = F.mse_loss(onlineQNetwork(batch_state).gather(1, batch_action.long()), y)\n",
        "                optimizer.zero_grad()\n",
        "                loss.backward()\n",
        "                optimizer.step()\n",
        "\n",
        "                if epsilon > FINAL_EPSILON:\n",
        "                    epsilon -= (INITIAL_EPSILON - FINAL_EPSILON) / EXPLORE\n",
        "                      \n",
        "            state = next_state\n",
        "          \n",
        "        scores.append(episode_reward)\n",
        "        max_tiles.append(np.max(state))\n",
        "              \n",
        "        \n",
        "        if epoch % print_rate == 0:\n",
        "            env.render()\n",
        "            #save_data(onlineQNetwork, targetQNetwork, optimizer, scores, max_tiles, epsilon, memory_replay, 0, 0, final = False)  #Uncomment to save data (not useful if you punctually train the agent)\n",
        "            print(\"Game \"+str(epoch)+\", Episode reward: \"+str(episode_reward))\n",
        "\n",
        "    return(onlineQNetwork, targetQNetwork, optimizer, scores, max_tiles, epsilon, memory_replay)"
      ],
      "execution_count": 0,
      "outputs": []
    },
    {
      "cell_type": "code",
      "metadata": {
        "id": "2UtHKJ3Sgm-6",
        "colab_type": "code",
        "colab": {}
      },
      "source": [
        "def save_data(onlineQNetwork, targetQNetwork, optimizer, scores, max_tiles, epsilon, memory_replay, reward, run, path = \"/content/gdrive/My Drive/2048/\", final = True):\n",
        "  ## Saves data in drive (previously mounted)\n",
        "  if final:\n",
        "    suffix = '_reward'+str(reward)+'_run' + str(run)\n",
        "  else: \n",
        "    suffix = ''\n",
        "\n",
        "  torch.save(onlineQNetwork.state_dict(), path + \"online\"+suffix)\n",
        "  torch.save(targetQNetwork.state_dict(), path+ 'target' + suffix)\n",
        "  torch.save(optimizer,path+'opti'+ suffix)\n",
        "  np.save(path+'scores' + suffix, scores)\n",
        "  np.save(path+'max_tiles' + suffix, max_tiles)\n",
        "  np.save(path+'eps' + suffix, epsilon)\n",
        "  np.save(path+'mem' + suffix, np.array(memory_replay.buffer))\n",
        "  return()\n"
      ],
      "execution_count": 0,
      "outputs": []
    },
    {
      "cell_type": "markdown",
      "metadata": {
        "id": "qfSD5RVosfk0",
        "colab_type": "text"
      },
      "source": [
        "# **Training agents for different rewards**"
      ]
    },
    {
      "cell_type": "code",
      "metadata": {
        "id": "L6ry-EEzdn1Y",
        "colab_type": "code",
        "outputId": "7deb3e1d-6b36-45a7-becf-db990293cc6e",
        "colab": {
          "base_uri": "https://localhost:8080/",
          "height": 125
        }
      },
      "source": [
        "from google.colab import drive\n",
        "drive.mount('/content/gdrive', force_remount = True)"
      ],
      "execution_count": 0,
      "outputs": [
        {
          "output_type": "stream",
          "text": [
            "Go to this URL in a browser: https://accounts.google.com/o/oauth2/auth?client_id=947318989803-6bn6qk8qdgf4n4g3pfee6491hc0brc4i.apps.googleusercontent.com&redirect_uri=urn%3aietf%3awg%3aoauth%3a2.0%3aoob&response_type=code&scope=email%20https%3a%2f%2fwww.googleapis.com%2fauth%2fdocs.test%20https%3a%2f%2fwww.googleapis.com%2fauth%2fdrive%20https%3a%2f%2fwww.googleapis.com%2fauth%2fdrive.photos.readonly%20https%3a%2f%2fwww.googleapis.com%2fauth%2fpeopleapi.readonly\n",
            "\n",
            "Enter your authorization code:\n",
            "··········\n",
            "Mounted at /content/gdrive\n"
          ],
          "name": "stdout"
        }
      ]
    },
    {
      "cell_type": "code",
      "metadata": {
        "id": "0aU1tb4VDSt4",
        "colab_type": "code",
        "outputId": "6a0be12b-39f2-40a1-e693-6d6f1cb29217",
        "colab": {
          "base_uri": "https://localhost:8080/",
          "height": 1000
        }
      },
      "source": [
        "onlineQNetwork, targetQNetwork, optimizer, scores, max_tiles, epsilon, memory_replay = training(3000, 'nb_merge_max_tile', 'online', 'target','eps.npy', 'mem.npy', 'opti', cont = False, print_rate = 100)\n",
        "save_data(onlineQNetwork, targetQNetwork, optimizer, scores, max_tiles, epsilon, memory_replay, 3, 1)\n",
        "onlineQNetwork, targetQNetwork, optimizer, scores, max_tiles, epsilon, memory_replay = training(3000, 'scores', 'online', 'target','eps.npy', 'mem.npy', 'opti', cont = False, print_rate = 100)\n",
        "save_data(onlineQNetwork, targetQNetwork, optimizer, scores, max_tiles, epsilon, memory_replay, 1, 1)"
      ],
      "execution_count": 0,
      "outputs": [
        {
          "output_type": "stream",
          "text": [
            "16 \t8 \t4 \t2\n",
            "2 \t4 \t8 \t4\n",
            "4 \t16 \t2 \t8\n",
            "2 \t64 \t16 \t2\n",
            "Game 0, Episode reward: 375.0\n",
            "learn begin!\n",
            "4 \t8 \t16 \t2\n",
            "8 \t4 \t32 \t128\n",
            "4 \t32 \t128 \t8\n",
            "2 \t4 \t64 \t2\n",
            "Game 100, Episode reward: 1366.0\n",
            "2 \t4 \t8 \t16\n",
            "4 \t8 \t16 \t32\n",
            "8 \t16 \t32 \t64\n",
            "16 \t32 \t2 \t128\n",
            "Game 200, Episode reward: 1186.0\n",
            "2 \t32 \t16 \t2\n",
            "128 \t4 \t2 \t16\n",
            "4 \t32 \t8 \t4\n",
            "32 \t8 \t4 \t2\n",
            "Game 300, Episode reward: 836.0\n",
            "4 \t2 \t4 \t8\n",
            "8 \t4 \t16 \t4\n",
            "32 \t16 \t64 \t16\n",
            "2 \t256 \t4 \t2\n",
            "Game 400, Episode reward: 1276.0\n",
            "4 \t2 \t4 \t8\n",
            "2 \t4 \t8 \t16\n",
            "4 \t8 \t16 \t2\n",
            "8 \t32 \t2 \t32\n",
            "Game 500, Episode reward: 328.0\n",
            "2 \t4 \t8 \t16\n",
            "16 \t32 \t16 \t8\n",
            "4 \t16 \t32 \t64\n",
            "8 \t2 \t64 \t128\n",
            "Game 600, Episode reward: 1299.0\n",
            "8 \t4 \t2 \t4\n",
            "4 \t8 \t4 \t32\n",
            "8 \t16 \t64 \t128\n",
            "32 \t2 \t128 \t256\n",
            "Game 700, Episode reward: 2493.0\n",
            "4 \t2 \t4 \t2\n",
            "32 \t8 \t64 \t8\n",
            "4 \t16 \t128 \t32\n",
            "8 \t32 \t64 \t2\n",
            "Game 800, Episode reward: 1212.0\n",
            "4 \t8 \t16 \t4\n",
            "2 \t4 \t8 \t32\n",
            "4 \t8 \t32 \t64\n",
            "16 \t32 \t64 \t256\n",
            "Game 900, Episode reward: 1788.0\n",
            "4 \t2 \t8 \t2\n",
            "16 \t32 \t16 \t8\n",
            "8 \t16 \t4 \t128\n",
            "16 \t64 \t128 \t256\n",
            "Game 1000, Episode reward: 2444.0\n",
            "2 \t4 \t2 \t8\n",
            "4 \t2 \t8 \t32\n",
            "2 \t4 \t32 \t64\n",
            "8 \t16 \t64 \t128\n",
            "Game 1100, Episode reward: 1206.0\n",
            "2 \t4 \t2 \t4\n",
            "4 \t2 \t8 \t16\n",
            "2 \t8 \t16 \t32\n",
            "8 \t16 \t32 \t128\n",
            "Game 1200, Episode reward: 808.0\n",
            "2 \t4 \t2 \t4\n",
            "4 \t2 \t8 \t2\n",
            "8 \t512 \t32 \t8\n",
            "64 \t2 \t256 \t128\n",
            "Game 1300, Episode reward: 3999.0\n",
            "2 \t16 \t2 \t4\n",
            "4 \t8 \t16 \t32\n",
            "8 \t16 \t2 \t64\n",
            "16 \t32 \t64 \t256\n",
            "Game 1400, Episode reward: 1876.0\n",
            "2 \t4 \t8 \t16\n",
            "4 \t32 \t16 \t4\n",
            "2 \t4 \t32 \t64\n",
            "16 \t64 \t256 \t2\n",
            "Game 1500, Episode reward: 1725.0\n",
            "2 \t4 \t2 \t16\n",
            "4 \t2 \t8 \t32\n",
            "2 \t4 \t32 \t64\n",
            "8 \t64 \t256 \t16\n",
            "Game 1600, Episode reward: 1736.0\n",
            "2 \t4 \t16 \t2\n",
            "8 \t32 \t8 \t4\n",
            "128 \t16 \t64 \t32\n",
            "64 \t512 \t8 \t256\n",
            "Game 1700, Episode reward: 4339.0\n",
            "2 \t4 \t8 \t2\n",
            "4 \t8 \t2 \t4\n",
            "32 \t128 \t64 \t32\n",
            "2 \t32 \t512 \t64\n",
            "Game 1800, Episode reward: 3503.0\n",
            "2 \t4 \t2 \t8\n",
            "4 \t16 \t32 \t2\n",
            "16 \t64 \t16 \t8\n",
            "32 \t256 \t512 \t64\n",
            "Game 1900, Episode reward: 4002.0\n",
            "2 \t4 \t8 \t4\n",
            "4 \t8 \t16 \t2\n",
            "8 \t128 \t64 \t32\n",
            "256 \t512 \t128 \t64\n",
            "Game 2000, Episode reward: 5054.0\n",
            "2 \t4 \t8 \t4\n",
            "8 \t32 \t16 \t2\n",
            "16 \t64 \t128 \t4\n",
            "128 \t1024 \t256 \t32\n",
            "Game 2100, Episode reward: 7327.0\n",
            "2 \t8 \t2 \t4\n",
            "8 \t16 \t32 \t8\n",
            "128 \t64 \t128 \t16\n",
            "2 \t256 \t512 \t128\n",
            "Game 2200, Episode reward: 5311.0\n",
            "2 \t4 \t2 \t4\n",
            "4 \t2 \t4 \t8\n",
            "2 \t8 \t128 \t32\n",
            "64 \t256 \t512 \t128\n",
            "Game 2300, Episode reward: 4540.0\n",
            "4 \t8 \t2 \t8\n",
            "8 \t16 \t64 \t16\n",
            "64 \t32 \t128 \t256\n",
            "2 \t128 \t4 \t2\n",
            "Game 2400, Episode reward: 2525.0\n",
            "4 \t2 \t4 \t8\n",
            "8 \t16 \t8 \t32\n",
            "32 \t64 \t32 \t4\n",
            "64 \t512 \t256 \t2\n",
            "Game 2500, Episode reward: 4132.0\n",
            "4 \t8 \t4 \t2\n",
            "16 \t32 \t8 \t16\n",
            "32 \t16 \t64 \t32\n",
            "128 \t1024 \t512 \t2\n",
            "Game 2600, Episode reward: 8277.0\n",
            "2 \t4 \t2 \t4\n",
            "4 \t8 \t16 \t8\n",
            "16 \t32 \t64 \t32\n",
            "32 \t128 \t1024 \t256\n",
            "Game 2700, Episode reward: 6855.0\n",
            "4 \t8 \t4 \t2\n",
            "8 \t16 \t8 \t4\n",
            "4 \t128 \t16 \t8\n",
            "2 \t1024 \t256 \t32\n",
            "Game 2800, Episode reward: 6349.0\n",
            "2 \t4 \t2 \t4\n",
            "4 \t8 \t4 \t2\n",
            "8 \t16 \t64 \t32\n",
            "128 \t256 \t128 \t64\n",
            "Game 2900, Episode reward: 2626.0\n",
            "2 \t8 \t32 \t64\n",
            "8 \t16 \t2 \t4\n",
            "4 \t8 \t32 \t2\n",
            "2 \t4 \t8 \t16\n",
            "Game 0, Episode reward: 712.0\n",
            "learn begin!\n",
            "8 \t4 \t2 \t4\n",
            "16 \t8 \t16 \t8\n",
            "2 \t16 \t128 \t16\n",
            "4 \t64 \t16 \t8\n",
            "Game 100, Episode reward: 1352.0\n",
            "16 \t8 \t4 \t2\n",
            "128 \t16 \t8 \t4\n",
            "32 \t64 \t2 \t8\n",
            "8 \t32 \t16 \t32\n",
            "Game 200, Episode reward: 1616.0\n",
            "2 \t8 \t4 \t2\n",
            "4 \t2 \t32 \t4\n",
            "8 \t16 \t128 \t8\n",
            "32 \t64 \t32 \t2\n",
            "Game 300, Episode reward: 1540.0\n",
            "2 \t8 \t4 \t2\n",
            "8 \t2 \t16 \t32\n",
            "16 \t32 \t64 \t2\n",
            "2 \t64 \t2 \t4\n",
            "Game 400, Episode reward: 1008.0\n",
            "4 \t16 \t4 \t2\n",
            "8 \t4 \t8 \t16\n",
            "16 \t2 \t4 \t2\n",
            "2 \t8 \t16 \t64\n",
            "Game 500, Episode reward: 552.0\n",
            "2 \t32 \t8 \t4\n",
            "16 \t2 \t4 \t2\n",
            "4 \t16 \t32 \t64\n",
            "8 \t32 \t2 \t128\n",
            "Game 600, Episode reward: 1564.0\n",
            "4 \t2 \t8 \t4\n",
            "8 \t32 \t4 \t2\n",
            "16 \t2 \t64 \t4\n",
            "128 \t256 \t4 \t2\n",
            "Game 700, Episode reward: 3028.0\n",
            "4 \t8 \t4 \t2\n",
            "2 \t16 \t32 \t4\n",
            "16 \t128 \t64 \t8\n",
            "2 \t64 \t128 \t16\n",
            "Game 800, Episode reward: 2396.0\n",
            "2 \t4 \t8 \t2\n",
            "4 \t8 \t32 \t4\n",
            "8 \t2 \t16 \t8\n",
            "64 \t256 \t128 \t32\n",
            "Game 900, Episode reward: 3156.0\n",
            "2 \t4 \t8 \t2\n",
            "4 \t16 \t2 \t8\n",
            "32 \t64 \t32 \t16\n",
            "64 \t256 \t128 \t64\n",
            "Game 1000, Episode reward: 3768.0\n",
            "4 \t2 \t4 \t2\n",
            "2 \t4 \t16 \t4\n",
            "32 \t128 \t64 \t16\n",
            "64 \t512 \t256 \t64\n",
            "Game 1100, Episode reward: 7620.0\n",
            "4 \t2 \t4 \t2\n",
            "8 \t4 \t2 \t4\n",
            "32 \t128 \t32 \t16\n",
            "64 \t512 \t256 \t64\n",
            "Game 1200, Episode reward: 7444.0\n",
            "8 \t4 \t2 \t4\n",
            "16 \t8 \t4 \t2\n",
            "32 \t16 \t8 \t4\n",
            "64 \t32 \t16 \t8\n",
            "Game 1300, Episode reward: 748.0\n",
            "2 \t4 \t16 \t2\n",
            "4 \t16 \t128 \t4\n",
            "128 \t256 \t8 \t64\n",
            "256 \t1024 \t4 \t2\n",
            "Game 1400, Episode reward: 14380.0\n",
            "2 \t16 \t8 \t2\n",
            "4 \t8 \t32 \t8\n",
            "16 \t64 \t16 \t2\n",
            "512 \t256 \t128 \t16\n",
            "Game 1500, Episode reward: 7164.0\n",
            "8 \t2 \t4 \t2\n",
            "4 \t16 \t128 \t4\n",
            "16 \t32 \t512 \t32\n",
            "256 \t1024 \t2 \t4\n",
            "Game 1600, Episode reward: 15864.0\n",
            "2 \t8 \t2 \t4\n",
            "4 \t16 \t4 \t2\n",
            "16 \t32 \t8 \t32\n",
            "1024 \t256 \t128 \t4\n",
            "Game 1700, Episode reward: 11832.0\n",
            "4 \t2 \t4 \t2\n",
            "2 \t8 \t128 \t4\n",
            "8 \t512 \t8 \t2\n",
            "256 \t1024 \t2 \t4\n",
            "Game 1800, Episode reward: 15624.0\n",
            "2 \t4 \t2 \t4\n",
            "4 \t16 \t32 \t2\n",
            "16 \t256 \t64 \t8\n",
            "256 \t512 \t256 \t128\n",
            "Game 1900, Episode reward: 10532.0\n",
            "2 \t4 \t2 \t4\n",
            "4 \t2 \t4 \t8\n",
            "2 \t4 \t8 \t16\n",
            "512 \t16 \t128 \t32\n",
            "Game 2000, Episode reward: 4984.0\n",
            "2 \t4 \t8 \t2\n",
            "32 \t8 \t16 \t4\n",
            "64 \t128 \t32 \t8\n",
            "512 \t256 \t2 \t64\n",
            "Game 2100, Episode reward: 7464.0\n",
            "2 \t16 \t8 \t2\n",
            "4 \t64 \t32 \t64\n",
            "16 \t1024 \t128 \t256\n",
            "2 \t512 \t2 \t512\n",
            "Game 2200, Episode reward: 20380.0\n",
            "2 \t8 \t4 \t2\n",
            "8 \t2 \t8 \t4\n",
            "16 \t32 \t16 \t8\n",
            "256 \t128 \t32 \t16\n",
            "Game 2300, Episode reward: 2928.0\n",
            "2 \t4 \t16 \t2\n",
            "16 \t128 \t32 \t4\n",
            "8 \t256 \t1024 \t128\n",
            "4 \t8 \t16 \t2\n",
            "Game 2400, Episode reward: 12552.0\n",
            "2 \t8 \t2 \t4\n",
            "8 \t16 \t4 \t2\n",
            "2 \t128 \t16 \t4\n",
            "512 \t16 \t64 \t32\n",
            "Game 2500, Episode reward: 5364.0\n",
            "2 \t4 \t2 \t4\n",
            "32 \t16 \t4 \t8\n",
            "2 \t32 \t64 \t128\n",
            "256 \t1024 \t256 \t32\n",
            "Game 2600, Episode reward: 14040.0\n"
          ],
          "name": "stdout"
        }
      ]
    },
    {
      "cell_type": "code",
      "metadata": {
        "id": "i-ATUN0IVZO0",
        "colab_type": "code",
        "outputId": "02a76369-4a42-466c-97ff-eae918452e60",
        "colab": {
          "base_uri": "https://localhost:8080/",
          "height": 811
        }
      },
      "source": [
        "#Due to failure of the training for the 'score' reward after 2601 games, we continue the training (parameter cont = True)\n",
        "onlineQNetwork, targetQNetwork, optimizer, scores, max_tiles, epsilon, memory_replay = training(399, 'score', 'online', 'target','eps.npy', 'mem.npy', 'opti', cont = True, print_rate = 50)\n",
        "save_data(onlineQNetwork, targetQNetwork, optimizer, scores, max_tiles, epsilon, memory_replay, 1, 2)  # Parameter 2 for 2nd run"
      ],
      "execution_count": 0,
      "outputs": [
        {
          "output_type": "stream",
          "text": [
            "/usr/local/lib/python3.6/dist-packages/gym_2048/env.py:120: FutureWarning: Using a non-tuple sequence for multidimensional indexing is deprecated; use `arr[tuple(seq)]` instead of `arr[seq]`. In the future this will be interpreted as an array index, `arr[np.array(seq)]`, which will result either in an error or a different result.\n",
            "  board[tile_locs] = tiles\n"
          ],
          "name": "stderr"
        },
        {
          "output_type": "stream",
          "text": [
            "learn begin!\n",
            "8 \t2 \t4 \t2\n",
            "16 \t4 \t2 \t4\n",
            "32 \t16 \t4 \t2\n",
            "256 \t32 \t8 \t4\n",
            "Game 0, Episode reward: 2140.0\n",
            "2 \t8 \t4 \t2\n",
            "8 \t64 \t16 \t4\n",
            "16 \t32 \t256 \t16\n",
            "256 \t1024 \t512 \t4\n",
            "Game 50, Episode reward: 17156.0\n",
            "8 \t2 \t4 \t2\n",
            "4 \t32 \t8 \t4\n",
            "64 \t16 \t2 \t8\n",
            "4 \t128 \t64 \t16\n",
            "Game 100, Episode reward: 1636.0\n",
            "4 \t8 \t4 \t2\n",
            "8 \t32 \t8 \t16\n",
            "16 \t64 \t16 \t128\n",
            "32 \t512 \t128 \t4\n",
            "Game 150, Episode reward: 6208.0\n",
            "4 \t8 \t4 \t2\n",
            "2 \t4 \t32 \t4\n",
            "64 \t128 \t64 \t32\n",
            "128 \t256 \t2 \t64\n",
            "Game 200, Episode reward: 4428.0\n",
            "4 \t2 \t4 \t2\n",
            "8 \t4 \t2 \t4\n",
            "32 \t64 \t8 \t2\n",
            "256 \t512 \t256 \t128\n",
            "Game 250, Episode reward: 8672.0\n",
            "4 \t2 \t4 \t2\n",
            "8 \t4 \t2 \t4\n",
            "16 \t32 \t16 \t2\n",
            "1024 \t256 \t128 \t32\n",
            "Game 300, Episode reward: 11856.0\n",
            "4 \t2 \t4 \t2\n",
            "2 \t32 \t8 \t64\n",
            "64 \t128 \t32 \t16\n",
            "512 \t1024 \t512 \t128\n",
            "Game 350, Episode reward: 19476.0\n"
          ],
          "name": "stdout"
        },
        {
          "output_type": "execute_result",
          "data": {
            "text/plain": [
              "()"
            ]
          },
          "metadata": {
            "tags": []
          },
          "execution_count": 21
        }
      ]
    },
    {
      "cell_type": "code",
      "metadata": {
        "id": "8Jx6swsW7_5R",
        "colab_type": "code",
        "colab": {}
      },
      "source": [
        "# Training for reward 3 (was run in another notebook)\n",
        "onlineQNetwork, targetQNetwork, optimizer, scores, max_tiles, epsilon, memory_replay = training(3000, 'nb_empty_tiles', 'online', 'target','eps.npy', 'mem.npy', 'opti', cont = False, print_rate = 10)\n",
        "save_data(onlineQNetwork, targetQNetwork, optimizer, scores, max_tiles, epsilon, memory_replay, 4, 1)  "
      ],
      "execution_count": 0,
      "outputs": []
    },
    {
      "cell_type": "markdown",
      "metadata": {
        "id": "beytbbA1wU6f",
        "colab_type": "text"
      },
      "source": [
        "## **Training results**"
      ]
    },
    {
      "cell_type": "code",
      "metadata": {
        "id": "Pju21R3EltYz",
        "colab_type": "code",
        "outputId": "d16c1514-3203-42bc-c703-4446df801ca0",
        "colab": {
          "base_uri": "https://localhost:8080/",
          "height": 295
        }
      },
      "source": [
        "path = \"/content/gdrive/My Drive/2048/\"\n",
        "suffix1 = \"_reward1_run1.npy\"\n",
        "suffix2 = \"_reward1_run2.npy\"\n",
        "scores_1 = np.concatenate((np.load(path+ \"scores\" + suffix1),np.load(path+ \"scores\" + suffix2)))\n",
        "max_tiles_1 = np.concatenate((np.load(path+ \"max_tiles\" + suffix1),np.load(path+ \"max_tiles\" + suffix2)))\n",
        "plt.plot(max_tiles_1)\n",
        "plt.xlabel('Games')\n",
        "plt.ylabel('Maximum tile')\n",
        "plt.title('Maximum tiles reached for each training game (Reward 1)')\n",
        "plt.show()"
      ],
      "execution_count": 0,
      "outputs": [
        {
          "output_type": "display_data",
          "data": {
            "image/png": "[encoded data removed]",
            "text/plain": [
              "<Figure size 432x288 with 1 Axes>"
            ]
          },
          "metadata": {
            "tags": []
          }
        }
      ]
    },
    {
      "cell_type": "code",
      "metadata": {
        "id": "F7DYyDO2jLzS",
        "colab_type": "code",
        "outputId": "18e8b6f5-937f-4300-ce96-5cfd807af077",
        "colab": {
          "base_uri": "https://localhost:8080/",
          "height": 295
        }
      },
      "source": [
        "path = \"/content/gdrive/My Drive/2048/\"\n",
        "suffix = \"_reward3_run1.npy\"\n",
        "scores_3 = np.load(path+ \"scores\" + suffix)\n",
        "max_tiles_3 = np.load(path+\"max_tiles\" + suffix)\n",
        "plt.plot(max_tiles_3)\n",
        "plt.xlabel('Games')\n",
        "plt.ylabel('Maximum tile')\n",
        "plt.title('Maximum tiles reached for each training game (Reward 2)')\n",
        "plt.show()"
      ],
      "execution_count": 0,
      "outputs": [
        {
          "output_type": "display_data",
          "data": {
            "image/png": "[encoded data removed]",
            "text/plain": [
              "<Figure size 432x288 with 1 Axes>"
            ]
          },
          "metadata": {
            "tags": []
          }
        }
      ]
    },
    {
      "cell_type": "code",
      "metadata": {
        "id": "cFiyKUAcVrXy",
        "colab_type": "code",
        "outputId": "8ff064e2-a92c-41f1-aaf5-be0cee79235a",
        "colab": {
          "base_uri": "https://localhost:8080/",
          "height": 295
        }
      },
      "source": [
        "path = \"/content/gdrive/My Drive/2048/\"\n",
        "suffix1 = \"_reward4_run1.npy\"\n",
        "suffix2 = \"_reward4_run3.npy\"\n",
        "scores_4 = np.concatenate((np.load(path+ \"scores\" + suffix1),np.load(path+ \"scores\" + suffix2)))\n",
        "max_tiles_4 = np.concatenate((np.load(path+ \"max_tiles\" + suffix1),np.load(path+ \"max_tiles\" + suffix2)))\n",
        "plt.plot(max_tiles_4)\n",
        "plt.xlabel('Games')\n",
        "plt.ylabel('Maximum tile')\n",
        "plt.title('Maximum tiles reached for each training game (Reward 3)')\n",
        "plt.show()"
      ],
      "execution_count": 0,
      "outputs": [
        {
          "output_type": "display_data",
          "data": {
            "image/png": "[encoded data removed]",
            "text/plain": [
              "<Figure size 432x288 with 1 Axes>"
            ]
          },
          "metadata": {
            "tags": []
          }
        }
      ]
    },
    {
      "cell_type": "code",
      "metadata": {
        "id": "n89h6tHmVUlj",
        "colab_type": "code",
        "outputId": "33f68a16-a7d8-4e42-8ba3-a928d6bb5a3b",
        "colab": {
          "base_uri": "https://localhost:8080/",
          "height": 1000
        }
      },
      "source": [
        "def moving_average(a, wind=25) :\n",
        "    # Returns the moving average array associated to a with a window wind\n",
        "    ret = np.cumsum(a, dtype=float)\n",
        "    ret[wind:] = ret[wind:] - ret[:-wind]\n",
        "    return ret[wind - 1:] / wind\n",
        "\n",
        "\n",
        "plt.figure(0)\n",
        "plt.xlabel('Number of games')\n",
        "plt.ylabel('Moving average of max_tiles (window size 25)')\n",
        "plt.plot(moving_average(max_tiles_1), label = 'Reward 1')\n",
        "plt.plot(moving_average(max_tiles_3), label = 'Reward 2')\n",
        "plt.plot(moving_average(max_tiles_4), label = 'Reward 3')\n",
        "plt.legend(loc = 'best')\n",
        "\n",
        "plt.title('Max tiles for the three rewards (moving average)')\n",
        "\n",
        "\n",
        "plt.figure(1)\n",
        "plt.xlabel('Number of games')\n",
        "plt.ylabel('Moving average of reward 1 (window size 25)')\n",
        "plt.plot(moving_average(scores_1))\n",
        "plt.title('Reward training curve for reward 1 (moving average)')\n",
        "\n",
        "plt.figure(2)\n",
        "plt.xlabel('Number of games')\n",
        "plt.ylabel('Moving average of reward 2 (window size 25)')\n",
        "plt.plot(moving_average(scores_3))\n",
        "plt.title('Reward training curve for reward 2 (moving average)')\n",
        "\n",
        "plt.figure(3)\n",
        "plt.xlabel('Number of games')\n",
        "plt.ylabel('Moving average of reward 3 (window size 25)')\n",
        "plt.plot(moving_average(scores_4))\n",
        "plt.title('Reward training curve for reward 3 (moving average)')"
      ],
      "execution_count": 0,
      "outputs": [
        {
          "output_type": "execute_result",
          "data": {
            "text/plain": [
              "Text(0.5, 1.0, 'Reward training curve for reward 3 (moving average)')"
            ]
          },
          "metadata": {
            "tags": []
          },
          "execution_count": 16
        },
        {
          "output_type": "display_data",
          "data": {
            "image/png": "[encoded data removed]",
            "text/plain": [
              "<Figure size 432x288 with 1 Axes>"
            ]
          },
          "metadata": {
            "tags": []
          }
        },
        {
          "output_type": "display_data",
          "data": {
            "image/png": "[encoded data removed]",
            "text/plain": [
              "<Figure size 432x288 with 1 Axes>"
            ]
          },
          "metadata": {
            "tags": []
          }
        },
        {
          "output_type": "display_data",
          "data": {
            "image/png": "[encoded data removed]",
            "text/plain": [
              "<Figure size 432x288 with 1 Axes>"
            ]
          },
          "metadata": {
            "tags": []
          }
        },
        {
          "output_type": "display_data",
          "data": {
            "image/png": "[encoded data removed]",
            "text/plain": [
              "<Figure size 432x288 with 1 Axes>"
            ]
          },
          "metadata": {
            "tags": []
          }
        }
      ]
    },
    {
      "cell_type": "markdown",
      "metadata": {
        "id": "C28_lW6TwkeO",
        "colab_type": "text"
      },
      "source": [
        "## **Testing results**"
      ]
    },
    {
      "cell_type": "code",
      "metadata": {
        "id": "_RunVY7gH3xj",
        "colab_type": "code",
        "colab": {}
      },
      "source": [
        "def play_game(env, QNetwork, render = True):\n",
        "    ## Plays one unique game given an environment and a trained DQN\n",
        "    state = env.reset()\n",
        "    episode_reward = 0\n",
        "    done = False\n",
        "        \n",
        "    while not done:\n",
        "            \n",
        "        x = change_values(state)\n",
        "        x = torch.from_numpy(np.flip(x,axis=0).copy()).to(device)\n",
        "        output = QNetwork.forward(x) \n",
        "        for action in output.argsort()[0].cpu().numpy()[::-1]:\n",
        "             next_state, reward, done, _ = env.step(action)\n",
        "             if (state == next_state).all() == False:\n",
        "                     break\n",
        "\n",
        "            \n",
        "        episode_reward += reward\n",
        "        state = next_state\n",
        "            \n",
        "    if render:    \n",
        "      env.render()         \n",
        "      print( \"Score: \"+str(episode_reward))\n",
        "\n",
        "    return(state)\n",
        "\n",
        "def results(reward_mode):\n",
        "    # Displays results (proportions of games reaching each existing level of max_tile) given a reward_mode\n",
        "    if reward_mode == 'nb_merge_max_tile':\n",
        "      reward_num = 3\n",
        "      run = 1\n",
        "    elif reward_mode == 'score':\n",
        "      reward_num = 1\n",
        "      run = 2\n",
        "    elif reward_mode == 'nb_empty_tiles':\n",
        "      reward_num = 4\n",
        "      run = 3\n",
        "\n",
        "    test_env = Env(reward_mode = reward_mode)\n",
        "\n",
        "    path = \"/content/gdrive/My Drive/2048/\"\n",
        "    QNetwork = DQN().to(device)\n",
        "    filename = 'online_reward' + str(reward_num)+ '_run' + str(run)\n",
        "    QNetwork.load_state_dict(torch.load(path + filename))\n",
        "    \n",
        "    dic_max = {}\n",
        "    for i in range(13):\n",
        "      dic_max[2**i]=0\n",
        "\n",
        "    n_games = 1000\n",
        "\n",
        "    for k in range(n_games):\n",
        "      if (k%50 == 0):\n",
        "        print(str(k) + \" games played \")\n",
        "      grid = play_game(test_env, QNetwork, render = False)\n",
        "      max_tile = np.max(grid)\n",
        "      dic_max[max_tile]=dic_max[max_tile]+1\n",
        "\n",
        "    for key in dic_max:\n",
        "      dic_max[key] = dic_max[key]/n_games\n",
        "\n",
        "    return(dic_max)\n",
        "\n"
      ],
      "execution_count": 0,
      "outputs": []
    },
    {
      "cell_type": "code",
      "metadata": {
        "id": "BBy_I6IXKls4",
        "colab_type": "code",
        "outputId": "fb32dcb1-7b95-45a7-f795-b8f55596bac4",
        "colab": {
          "base_uri": "https://localhost:8080/",
          "height": 653
        }
      },
      "source": [
        "results('nb_merge_max_tile')"
      ],
      "execution_count": 0,
      "outputs": [
        {
          "output_type": "stream",
          "text": [
            "/usr/local/lib/python3.6/dist-packages/gym_2048/env.py:120: FutureWarning: Using a non-tuple sequence for multidimensional indexing is deprecated; use `arr[tuple(seq)]` instead of `arr[seq]`. In the future this will be interpreted as an array index, `arr[np.array(seq)]`, which will result either in an error or a different result.\n",
            "  board[tile_locs] = tiles\n"
          ],
          "name": "stderr"
        },
        {
          "output_type": "stream",
          "text": [
            "0 games played \n",
            "50 games played \n",
            "100 games played \n",
            "150 games played \n",
            "200 games played \n",
            "250 games played \n",
            "300 games played \n",
            "350 games played \n",
            "400 games played \n",
            "450 games played \n",
            "500 games played \n",
            "550 games played \n",
            "600 games played \n",
            "650 games played \n",
            "700 games played \n",
            "750 games played \n",
            "800 games played \n",
            "850 games played \n",
            "900 games played \n",
            "950 games played \n"
          ],
          "name": "stdout"
        },
        {
          "output_type": "execute_result",
          "data": {
            "text/plain": [
              "{1: 0.0,\n",
              " 2: 0.0,\n",
              " 4: 0.0,\n",
              " 8: 0.0,\n",
              " 16: 0.0,\n",
              " 32: 0.0,\n",
              " 64: 0.009,\n",
              " 128: 0.033,\n",
              " 256: 0.144,\n",
              " 512: 0.409,\n",
              " 1024: 0.381,\n",
              " 2048: 0.024,\n",
              " 4096: 0.0}"
            ]
          },
          "metadata": {
            "tags": []
          },
          "execution_count": 39
        }
      ]
    },
    {
      "cell_type": "code",
      "metadata": {
        "id": "8I3nUlD5lDNc",
        "colab_type": "code",
        "outputId": "01b67a69-adce-450c-e8d4-f53818ceb58e",
        "colab": {
          "base_uri": "https://localhost:8080/",
          "height": 653
        }
      },
      "source": [
        "results('score')"
      ],
      "execution_count": 0,
      "outputs": [
        {
          "output_type": "stream",
          "text": [
            "/usr/local/lib/python3.6/dist-packages/gym_2048/env.py:120: FutureWarning: Using a non-tuple sequence for multidimensional indexing is deprecated; use `arr[tuple(seq)]` instead of `arr[seq]`. In the future this will be interpreted as an array index, `arr[np.array(seq)]`, which will result either in an error or a different result.\n",
            "  board[tile_locs] = tiles\n"
          ],
          "name": "stderr"
        },
        {
          "output_type": "stream",
          "text": [
            "0 games played \n",
            "50 games played \n",
            "100 games played \n",
            "150 games played \n",
            "200 games played \n",
            "250 games played \n",
            "300 games played \n",
            "350 games played \n",
            "400 games played \n",
            "450 games played \n",
            "500 games played \n",
            "550 games played \n",
            "600 games played \n",
            "650 games played \n",
            "700 games played \n",
            "750 games played \n",
            "800 games played \n",
            "850 games played \n",
            "900 games played \n",
            "950 games played \n"
          ],
          "name": "stdout"
        },
        {
          "output_type": "execute_result",
          "data": {
            "text/plain": [
              "{1: 0.0,\n",
              " 2: 0.0,\n",
              " 4: 0.0,\n",
              " 8: 0.0,\n",
              " 16: 0.0,\n",
              " 32: 0.0,\n",
              " 64: 0.003,\n",
              " 128: 0.029,\n",
              " 256: 0.13,\n",
              " 512: 0.339,\n",
              " 1024: 0.454,\n",
              " 2048: 0.045,\n",
              " 4096: 0.0}"
            ]
          },
          "metadata": {
            "tags": []
          },
          "execution_count": 44
        }
      ]
    },
    {
      "cell_type": "code",
      "metadata": {
        "id": "E4H9whKEK3a3",
        "colab_type": "code",
        "outputId": "d58b8ceb-391d-4178-cd5a-492d77c7fd39",
        "colab": {
          "base_uri": "https://localhost:8080/",
          "height": 598
        }
      },
      "source": [
        "results('nb_empty_tiles')"
      ],
      "execution_count": 0,
      "outputs": [
        {
          "output_type": "stream",
          "text": [
            "0 games played \n",
            "50 games played \n",
            "100 games played \n",
            "150 games played \n",
            "200 games played \n",
            "250 games played \n",
            "300 games played \n",
            "350 games played \n",
            "400 games played \n",
            "450 games played \n",
            "500 games played \n",
            "550 games played \n",
            "600 games played \n",
            "650 games played \n",
            "700 games played \n",
            "750 games played \n",
            "800 games played \n",
            "850 games played \n",
            "900 games played \n",
            "950 games played \n"
          ],
          "name": "stdout"
        },
        {
          "output_type": "execute_result",
          "data": {
            "text/plain": [
              "{1: 0.0,\n",
              " 2: 0.0,\n",
              " 4: 0.0,\n",
              " 8: 0.0,\n",
              " 16: 0.0,\n",
              " 32: 0.001,\n",
              " 64: 0.002,\n",
              " 128: 0.01,\n",
              " 256: 0.039,\n",
              " 512: 0.194,\n",
              " 1024: 0.525,\n",
              " 2048: 0.227,\n",
              " 4096: 0.002}"
            ]
          },
          "metadata": {
            "tags": []
          },
          "execution_count": 14
        }
      ]
    },
    {
      "cell_type": "markdown",
      "metadata": {
        "id": "EgKqdQTwpI0R",
        "colab_type": "text"
      },
      "source": [
        "# **Reproduce training results for each reward mode**"
      ]
    },
    {
      "cell_type": "code",
      "metadata": {
        "id": "h_8KntOapIJR",
        "colab_type": "code",
        "colab": {}
      },
      "source": [
        "# This cell can reproduce the results obtained in the report: reward can be changed, n_epochs too (but will give different results if changed...)7\n",
        "# For this number of epochs, run time is approximately 5 hours\n",
        "\n",
        "def moving_average(a, wind=25) :\n",
        "    # Returns the moving average array associated to a with a window wind\n",
        "    ret = np.cumsum(a, dtype=float)\n",
        "    ret[wind:] = ret[wind:] - ret[:-wind]\n",
        "    return ret[wind - 1:] / wind\n",
        "\n",
        "reward = 1          # Values can be 1,2 or 3\n",
        "reward_mode = 'scores'*int(reward==1) + 'nb_merge_max_tile'*(int(reward == 2)) + 'nb_empty_tiles'*int(reward==3)\n",
        "onlineQNetwork, targetQNetwork, optimizer, scores, max_tiles, epsilon, memory_replay = training(3000, reward_mode, None, None,None, None, None, cont = False, print_rate = 100)\n",
        "\n",
        "plt.figure(0)\n",
        "plt.plot(max_tiles)\n",
        "plt.xlabel('Games')\n",
        "plt.ylabel('Maximum tile')\n",
        "plt.title('Maximum tiles reached for each training game (Reward ' + str(reward) + ')' )\n",
        "plt.show()\n",
        "\n",
        "plt.figure(1)\n",
        "plt.xlabel('Number of games')\n",
        "plt.ylabel('Moving average of reward ' + str(reward) + ' (window size 25)')\n",
        "plt.plot(moving_average(scores))\n",
        "plt.title('Reward training curve for reward ' + str(reward) + ' (moving average)')\n",
        "\n",
        "plt.figure(2)\n",
        "plt.xlabel('Number of games')\n",
        "plt.ylabel('Moving average of max_tiles for reward ' + str(reward) + ' (window size 25)')\n",
        "plt.plot(moving_average(max_tiles))\n",
        "plt.title('Max tiles for reward ' + str(reward) + ' (moving average)')\n",
        "\n",
        "plt.show()"
      ],
      "execution_count": 0,
      "outputs": []
    },
    {
      "cell_type": "markdown",
      "metadata": {
        "id": "VkxLL6YGvdh2",
        "colab_type": "text"
      },
      "source": [
        "# **Reproduce testing results for each reward mode**"
      ]
    },
    {
      "cell_type": "code",
      "metadata": {
        "id": "iSYWI2gQvlQz",
        "colab_type": "code",
        "colab": {}
      },
      "source": [
        "def play_game(env, QNetwork, render = True):\n",
        "    ## Plays one unique game given an environment and a trained DQN\n",
        "    state = env.reset()\n",
        "    episode_reward = 0\n",
        "    done = False\n",
        "        \n",
        "    while not done:\n",
        "            \n",
        "        x = change_values(state)\n",
        "        x = torch.from_numpy(np.flip(x,axis=0).copy()).to(device)\n",
        "        output = QNetwork.forward(x) \n",
        "        for action in output.argsort()[0].cpu().numpy()[::-1]:\n",
        "             next_state, reward, done, _ = env.step(action)\n",
        "             if (state == next_state).all() == False:\n",
        "                     break\n",
        "\n",
        "            \n",
        "        episode_reward += reward\n",
        "        state = next_state\n",
        "            \n",
        "    if render:    \n",
        "      env.render()         \n",
        "      print( \"Score: \"+str(episode_reward))\n",
        "\n",
        "    return(state)\n",
        "\n",
        "def testing_results(reward):\n",
        "  ## Returns test results given a reward (1,2 or 3)\n",
        "    reward_mode = 'scores' * int(reward == 1) + 'nb_merge_max_tile' * int(reward == 2) + 'nb_empty_tiles' * int(reward == 3)\n",
        "    test_env = Env(reward_mode=reward_mode)\n",
        "\n",
        "    QNetwork = DQN().to(device)\n",
        "    filename = 'parameters_reward_' + str(reward) + '.dms'\n",
        "    QNetwork.load_state_dict(torch.load(filename))\n",
        "\n",
        "    dic_max = {}\n",
        "    for i in range(13):\n",
        "        dic_max[2 ** i] = 0\n",
        "\n",
        "    n_games = 1000\n",
        "\n",
        "    for k in range(n_games):\n",
        "        if (k % 50 == 0):\n",
        "            print(str(k) + \" games played \")\n",
        "        grid = play_game(test_env, QNetwork, render=False)\n",
        "        max_tile = np.max(grid)\n",
        "        dic_max[max_tile] = dic_max[max_tile] + 1\n",
        "\n",
        "    for key in dic_max:\n",
        "        dic_max[key] = dic_max[key] / n_games\n",
        "\n",
        "    return (dic_max)\n",
        "\n",
        "testing_results(1) # Parameter can be from 1 to 3"
      ],
      "execution_count": 0,
      "outputs": []
    },
    {
      "cell_type": "code",
      "metadata": {
        "id": "N1287Z5J1iZ2",
        "colab_type": "code",
        "colab": {}
      },
      "source": [
        ""
      ],
      "execution_count": 0,
      "outputs": []
    }
  ]
}